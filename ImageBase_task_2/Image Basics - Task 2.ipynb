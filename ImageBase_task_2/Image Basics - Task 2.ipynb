{
 "cells": [
  {
   "cell_type": "code",
   "execution_count": null,
   "metadata": {},
   "outputs": [],
   "source": [
    "import cv2 \n",
    "  \n",
    "img = cv2.imread('1.jpg')  \n",
    "cv2.imshow('image', img)  \n",
    "cv2.waitKey(0)         \n"
   ]
  },
  {
   "cell_type": "code",
   "execution_count": 17,
   "metadata": {},
   "outputs": [],
   "source": [
    "import cv2\n",
    "\n",
    "def mouse(event, x, y, flags, param):\n",
    "    if event == cv2.EVENT_LBUTTONDOWN:\n",
    "        x1 = x - 50\n",
    "        x2 = x + 51\n",
    "        y1 = y - 50\n",
    "        y2 = y + 51\n",
    "        point1 = (x1, y1)\n",
    "        point2 = (x2, y2)\n",
    "        cv2.rectangle(img , point1, point2,color = (0,0,255), thickness = 5)\n",
    "        img_select = img[y1:y2, x1:x2]\n",
    "        img_YUV = cv2.cvtColor(img_select, cv2.COLOR_BGR2YUV)\n",
    "        img[y1:y2, x1:x2] = img_YUV\n",
    "        cv2.imshow(\"image\", img)\n",
    "\n",
    "img = cv2.imread(\"1.jpg\")\n",
    "cv2.namedWindow(\"image\")\n",
    "cv2.imshow(\"image\", img)\n",
    "cv2.setMouseCallback(\"image\", mouse)\n",
    "\n",
    "cv2.waitKey(0)\n",
    "cv2.destroyAllWindows()"
   ]
  },
  {
   "cell_type": "code",
   "execution_count": 16,
   "metadata": {},
   "outputs": [
    {
     "data": {
      "text/plain": [
       "-1"
      ]
     },
     "execution_count": 16,
     "metadata": {},
     "output_type": "execute_result"
    }
   ],
   "source": []
  },
  {
   "cell_type": "code",
   "execution_count": 1,
   "metadata": {},
   "outputs": [],
   "source": [
    "\n",
    "\n",
    "\n"
   ]
  },
  {
   "cell_type": "code",
   "execution_count": null,
   "metadata": {},
   "outputs": [],
   "source": []
  },
  {
   "cell_type": "code",
   "execution_count": null,
   "metadata": {},
   "outputs": [],
   "source": []
  }
 ],
 "metadata": {
  "kernelspec": {
   "display_name": "Python 3",
   "language": "python",
   "name": "python3"
  },
  "language_info": {
   "codemirror_mode": {
    "name": "ipython",
    "version": 3
   },
   "file_extension": ".py",
   "mimetype": "text/x-python",
   "name": "python",
   "nbconvert_exporter": "python",
   "pygments_lexer": "ipython3",
   "version": "3.7.4"
  }
 },
 "nbformat": 4,
 "nbformat_minor": 2
}
