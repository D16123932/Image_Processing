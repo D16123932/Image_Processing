{
 "cells": [
  {
   "cell_type": "code",
   "execution_count": 3,
   "metadata": {},
   "outputs": [],
   "source": [
    "%matplotlib inline\n",
    "\n",
    "import cv2 \n",
    "import numpy as np \n",
    "from matplotlib import pyplot as plt \n",
    "from matplotlib import image as image\n",
    "import easygui "
   ]
  },
  {
   "cell_type": "code",
   "execution_count": 4,
   "metadata": {},
   "outputs": [],
   "source": [
    "I1 = cv2.imread('Googly.jpg')\n",
    "I2 = cv2.imread('sudoku.jpg')"
   ]
  },
  {
   "cell_type": "code",
   "execution_count": 9,
   "metadata": {},
   "outputs": [],
   "source": [
    "cv2.imshow(\"Original\", I1) # 1. Open image \"Googly.jpg\"\n",
    "G1 = cv2.cvtColor(I1,cv2.COLOR_BGR2GRAY) # Get graysacle of Googly\n",
    "\n",
    "# 2. Use thresholding to separate Googly and his friend from the background\n",
    "ret, threshold1 = cv2.threshold(G1, 110, 255, cv2.THRESH_BINARY)\n",
    "cv2.imshow(\"Binary Threshold\", threshold1)\n",
    "\n",
    "# 3. Use statistical analysis to choose a threshold for better result\n",
    "T = np.mean(G1) + np.std(G1)\n",
    "T, threshold2 = cv2.threshold(G1, T, 255, cv2.THRESH_BINARY)\n",
    "cv2.imshow(\"Statistical analysis Threshold\", threshold2)\n",
    "\n",
    "# 4. Try multiple thresholds on different channels\n",
    "B = cv2.adaptiveThreshold(G1, 255, cv2.ADAPTIVE_THRESH_GAUSSIAN_C,cv2.THRESH_BINARY, 5, 15)\n",
    "cv2.imshow(\"Adaptive Threshold\", B)\n",
    "\n",
    "\n",
    "cv2.waitKey(0)\n",
    "cv2.destroyAllWindows()"
   ]
  },
  {
   "cell_type": "code",
   "execution_count": 15,
   "metadata": {},
   "outputs": [],
   "source": [
    "cv2.imshow(\"Original\", I2) # 5. Open image \"Sudoku.jpg\"\n",
    "G2 = cv2.cvtColor(I2, cv2.COLOR_BGR2GRAY) # Get grayscale of Sudoku\n",
    "cv2.imshow(\"GaryScale\", G2)\n",
    "\n",
    "# 6. Use adaptive thresholding to create a black & white image\n",
    "W1 = cv2.adaptiveThreshold(G2, 255, cv2.ADAPTIVE_THRESH_GAUSSIAN_C,cv2.THRESH_BINARY, 5, 15)\n",
    "B1 = cv2.adaptiveThreshold(G2, 255, cv2.ADAPTIVE_THRESH_GAUSSIAN_C,cv2.THRESH_BINARY_INV, 5, 15)\n",
    "\n",
    "cv2.imshow(\"black_1\", B1)\n",
    "cv2.imshow(\"white_1\", W1)\n",
    "\n",
    "# 7. Modify the region size and constant for better result\n",
    "W2 = cv2.adaptiveThreshold(G2, 255, cv2.ADAPTIVE_THRESH_GAUSSIAN_C,cv2.THRESH_BINARY, 15, 15)\n",
    "B2 = cv2.adaptiveThreshold(G2, 255, cv2.ADAPTIVE_THRESH_GAUSSIAN_C,cv2.THRESH_BINARY_INV, 15, 15)\n",
    "\n",
    "cv2.imshow(\"black_2\", B2)\n",
    "cv2.imshow(\"white_2\", W2)\n",
    "\n",
    "\n",
    "cv2.waitKey(0)\n",
    "cv2.destroyAllWindows()"
   ]
  },
  {
   "cell_type": "code",
   "execution_count": null,
   "metadata": {},
   "outputs": [],
   "source": []
  }
 ],
 "metadata": {
  "kernelspec": {
   "display_name": "Python 3",
   "language": "python",
   "name": "python3"
  },
  "language_info": {
   "codemirror_mode": {
    "name": "ipython",
    "version": 3
   },
   "file_extension": ".py",
   "mimetype": "text/x-python",
   "name": "python",
   "nbconvert_exporter": "python",
   "pygments_lexer": "ipython3",
   "version": "3.8.3"
  }
 },
 "nbformat": 4,
 "nbformat_minor": 4
}
